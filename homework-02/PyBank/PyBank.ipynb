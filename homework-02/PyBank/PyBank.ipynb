{
 "cells": [
  {
   "cell_type": "code",
   "execution_count": 1,
   "metadata": {},
   "outputs": [],
   "source": [
    "# Extracting the data from the csv file & defining the dictionary\n",
    "from pathlib import Path\n",
    "import csv \n",
    "import pprint\n",
    "import numpy"
   ]
  },
  {
   "cell_type": "code",
   "execution_count": 6,
   "metadata": {},
   "outputs": [],
   "source": [
    "csvpath = Path('budget_data.csv')"
   ]
  },
  {
   "cell_type": "code",
   "execution_count": 7,
   "metadata": {},
   "outputs": [],
   "source": [
    "#Parameters\n",
    "line_num=0\n",
    "budget =[]\n",
    "total=0\n",
    "net_profitlosses=0\n",
    "change=0\n",
    "change_dict=[]\n",
    "greatest_decrease=0\n",
    "greatest_increase=0"
   ]
  },
  {
   "cell_type": "code",
   "execution_count": 8,
   "metadata": {},
   "outputs": [],
   "source": [
    "# Read the CSV\n",
    "with open(csvpath,'r') as budgetfile:\n",
    "    csvreader = csv.reader(budgetfile, delimiter=',')\n",
    "    header=next(csvreader)\n",
    "    line_num += 1\n",
    "    # print(f\"{header}\")\n",
    "    \n",
    "    for row in csvreader:\n",
    "        budget.append(row)\n",
    "        net_profitlosses += float(row[1])\n",
    "        \n",
    "        change =- float(row[1])\n",
    "        change_dict.append(change)\n",
    "\n",
    "        def average(change_dict): \n",
    "            return sum(change_dict) / len(change_dict)\n",
    "        \n",
    "        thechange= average(change_dict)\n",
    "        gincrease = max(change_dict)\n",
    "        gdecrease = min(change_dict)\n",
    "\n",
    "        greatest_increase = budget[change_dict.index(gincrease)]\n",
    "        greatest_decrease= budget[change_dict.index(gdecrease)]"
   ]
  },
  {
   "cell_type": "code",
   "execution_count": 9,
   "metadata": {},
   "outputs": [
    {
     "name": "stdout",
     "output_type": "stream",
     "text": [
      "The total number of months in the data set is 86\n",
      "The net total amount of Profit/Losses over the entire period is 38382578.0\n",
      "The average of the changes in Profit/Losses over the entire period is -446309.0465116279\n",
      "The greatest increase in profits on ['Sep-2013', '-1196225'] over the entire period\n",
      "The greatest decrease in profits on ['Feb-2012', '1170593'] over the entire period\n"
     ]
    }
   ],
   "source": [
    "print(f\"The total number of months in the data set is {len(budget)}\")\n",
    "print(f\"The net total amount of Profit/Losses over the entire period is {net_profitlosses}\")   \n",
    "print(f\"The average of the changes in Profit/Losses over the entire period is {thechange}\")     \n",
    "print(f\"The greatest increase in profits on {greatest_increase} over the entire period\")\n",
    "print(f\"The greatest decrease in profits on {greatest_decrease} over the entire period\")"
   ]
  },
  {
   "cell_type": "code",
   "execution_count": null,
   "metadata": {},
   "outputs": [],
   "source": []
  }
 ],
 "metadata": {
  "kernelspec": {
   "display_name": "Python 3",
   "language": "python",
   "name": "python3"
  },
  "language_info": {
   "codemirror_mode": {
    "name": "ipython",
    "version": 3
   },
   "file_extension": ".py",
   "mimetype": "text/x-python",
   "name": "python",
   "nbconvert_exporter": "python",
   "pygments_lexer": "ipython3",
   "version": "3.7.4"
  }
 },
 "nbformat": 4,
 "nbformat_minor": 4
}
